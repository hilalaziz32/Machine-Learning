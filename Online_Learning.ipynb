{
  "nbformat": 4,
  "nbformat_minor": 0,
  "metadata": {
    "colab": {
      "provenance": []
    },
    "kernelspec": {
      "name": "python3",
      "display_name": "Python 3"
    },
    "language_info": {
      "name": "python"
    }
  },
  "cells": [
    {
      "cell_type": "markdown",
      "source": [
        "# Online Machine Learning\n",
        "\n",
        "Online machine learning is a real-time approach where models learn from incoming data, updating as it arrives. 🔄 Unlike batch learning, it adapts dynamically to changing data streams. It's great for rapid processing, like in streaming analytics 📈 or recommendation systems. This method efficiently handles large data volumes, but also faces challenges like concept drift 🌊 and choosing optimal learning rates. Overall, online ML is a powerful tool for building adaptive models from continuous data streams.\n",
        "\n",
        "Examples include real-time stock market prediction 📈, dynamic pricing in e-commerce 💰, personalized news recommendations 📰, and fraud detection in financial transactions 🕵️‍♂️. Online ML is vital for scenarios where data is generated rapidly and needs immediate processing for decision-making."
      ],
      "metadata": {
        "id": "LAvRUVQojcBQ"
      }
    },
    {
      "cell_type": "code",
      "source": [
        "#!pip install river\n",
        "from river import datasets\n",
        "from river import linear_model\n",
        "from river import preprocessing\n",
        "from river import metrics\n",
        "\n",
        "dataset=datasets.Phishing()\n",
        "\n",
        "model=preprocessing.StandardScaler() | linear_model.LogisticRegression()\n",
        "\n",
        "metric=metrics.Accuracy()\n",
        "\n",
        "for x,y in dataset:\n",
        "    y_pred = model.predict_one(x)\n",
        "    model.learn_one(x,y)\n",
        "    metric.update(y,y_pred)\n",
        "\n",
        "print(f\"Accuracy : {metric.get()}\")\n",
        "\n"
      ],
      "metadata": {
        "colab": {
          "base_uri": "https://localhost:8080/"
        },
        "id": "_89OpHm1ldNp",
        "outputId": "b47699b0-fd8c-4625-b46e-ec7684dada3f"
      },
      "execution_count": 7,
      "outputs": [
        {
          "output_type": "stream",
          "name": "stdout",
          "text": [
            "Accuracy : 0.8928\n"
          ]
        }
      ]
    },
    {
      "cell_type": "markdown",
      "source": [
        "1**. Online Machine Learning**\n",
        "Definition: Online machine learning is a way for models to learn from data as it arrives, continuously updating themselves instead of being trained on a static dataset.\n",
        "\n",
        "Key Point: It's like learning on the go, adapting quickly to new information.\n",
        "\n",
        "\n",
        "**2.When to Use?\n",
        "Usage Scenarios:**\n",
        "\n",
        "Real-time Data: When data is constantly streaming, like live sensor data or social media feeds.\n",
        "Changing Data Patterns: When the data changes over time, like stock prices or user behavior.\n",
        "Limited Storage: When you can’t store large amounts of data and need to process it immediately.\n",
        "Key Point: Use it when data comes in continuously and may change over time.\n",
        "\n",
        "\n",
        "3**. How to Implement?**\n",
        "\n",
        "Steps:\n",
        "\n",
        "Choose a Model: Select a model that supports online updates (e.g., logistic regression, neural networks).\n",
        "Stream Data: Feed the model new data points as they arrive.\n",
        "Update Continuously: Adjust the model with each new piece of data to improve its predictions.\n",
        "Key Point: Continuously train and update the model with new data as it arrives.\n",
        "\n",
        "\n",
        "\n",
        "**4. Learning Rate**\n",
        "Definition: The learning rate is a parameter that controls how much the model adjusts its weights in response to new data.\n",
        "\n",
        "Key Point: It's like the speed at which the model learns. Too fast or too slow can be problematic.\n",
        "\n",
        "\n",
        "\n",
        "**5. Out of Core Learning**\n",
        "Definition: Out of core learning is used for handling data that doesn’t fit into memory all at once. The model processes small chunks of data sequentially.\n",
        "\n",
        "Key Point: It's like learning from a huge book one page at a time because the whole book is too big to carry.\n",
        "\n",
        "\n",
        "**6. Disadvantage**\n",
        "Main Drawback:\n",
        "\n",
        "Potential Overfitting: The model might adapt too much to recent data and lose its ability to generalize to new, unseen data.\n",
        "Resource Intensive: Requires continuous processing power and can be complex to implement.\n",
        "Key Point: The model might become too focused on recent data and miss the bigger picture.\n",
        "\n",
        "\n",
        "**7. Batch vs Online Learning**\n",
        "**Comparison:**\n",
        "\n",
        "Batch Learning: The model is trained on a fixed dataset all at once.\n",
        "Pros: Simpler and more stable.\n",
        "Cons: Can’t adapt to new data after training.\n",
        "Online Learning: The model updates continuously with each new data point.\n",
        "Pros: Adapts to new data in real-time.\n",
        "Cons: More complex and can be unstable if not managed well.\n",
        "Key Point: Batch learning is like studying for a test all at once, while online learning is like learning continuously every day.\n",
        "\n"
      ],
      "metadata": {
        "id": "K3gzEeNTkQw8"
      }
    }
  ]
}